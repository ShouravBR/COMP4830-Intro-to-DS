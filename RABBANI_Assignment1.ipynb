{
 "cells": [
  {
   "cell_type": "code",
   "execution_count": 1,
   "metadata": {},
   "outputs": [],
   "source": [
    "def bubble_sort(unsorted_list, get_original_indices=False):\n",
    "    ''' returns copy of list with sorted elements'''\n",
    "    X = unsorted_list.copy()\n",
    "    list_size = len(X)\n",
    "    sort_history = list(range(list_size))\n",
    "\n",
    "    for last_idx in range(1, list_size-1):\n",
    "        for idx in range(list_size-last_idx):\n",
    "            if X[idx] > X[idx+1]:\n",
    "                X[idx], X[idx+1] = X[idx+1], X[idx]\n",
    "                sort_history[idx], sort_history[idx+1] = sort_history[idx+1], sort_history[idx]\n",
    "    \n",
    "    return X if not get_original_indices else (X, sort_history)"
   ]
  },
  {
   "cell_type": "code",
   "execution_count": 2,
   "metadata": {},
   "outputs": [
    {
     "data": {
      "text/plain": [
       "[5, 7, 8, 12, 12, 14, 15, 33, 43, 47, 67, 86, 98, 100]"
      ]
     },
     "execution_count": 2,
     "metadata": {},
     "output_type": "execute_result"
    }
   ],
   "source": [
    "unsorted_list = [43, 5, 7, 12, 100, 47, 12, 15, 33, 8, 67, 14, 98, 86]\n",
    "bubble_sort(unsorted_list)"
   ]
  },
  {
   "cell_type": "code",
   "execution_count": 3,
   "metadata": {},
   "outputs": [],
   "source": [
    "def binary_search(haystack, needle):\n",
    "    ''' returns index of matched element from a list if found or else -1'''\n",
    "    haystack, original_indices = bubble_sort(haystack, True)\n",
    "    needle_idx = -1\n",
    "\n",
    "    while needle_idx < 0:\n",
    "        mid_idx = len(haystack)//2\n",
    "        candidate = haystack[mid_idx]\n",
    "\n",
    "        if candidate == needle:\n",
    "            needle_idx = mid_idx\n",
    "            continue\n",
    "\n",
    "        if len(haystack)==1:\n",
    "            break\n",
    "        \n",
    "        haystack = haystack[mid_idx:] if needle>candidate else haystack[:mid_idx]\n",
    "\n",
    "    return original_indices[needle_idx] if needle_idx >= 0 else -1"
   ]
  },
  {
   "cell_type": "code",
   "execution_count": 4,
   "metadata": {},
   "outputs": [
    {
     "data": {
      "text/plain": [
       "3"
      ]
     },
     "execution_count": 4,
     "metadata": {},
     "output_type": "execute_result"
    }
   ],
   "source": [
    "unsorted_list = [43, 5, 7, 12, 100, 47, 12, 15, 33, 8, 67, 14, 98, 86]\n",
    "binary_search(unsorted_list, 12)"
   ]
  },
  {
   "cell_type": "code",
   "execution_count": 5,
   "metadata": {},
   "outputs": [
    {
     "name": "stdout",
     "output_type": "stream",
     "text": [
      "first 10 fibonacci numbers: [0, 1, 1, 2, 3, 5, 8, 13, 21, 34]\n"
     ]
    }
   ],
   "source": [
    "f = [-1 for x in range(10)]\n",
    "\n",
    "def myfib2(n):\n",
    "    if n == 0:\n",
    "        f[0] = 0\n",
    "        return 0\n",
    "    if n == 1:\n",
    "        f[1] = 1\n",
    "        return 1\n",
    "    if f[n-2] == -1:\n",
    "        f[n-2] = myfib2(n-2)\n",
    "    if f[n-1] == -1:\n",
    "        f[n-1] = myfib2(n-1)\n",
    " \n",
    "    f[n] = f[n-1] + f[n-2]\n",
    "\n",
    "    return f[n]\n",
    "\n",
    "myfib2(9)\n",
    "\n",
    "print('first 10 fibonacci numbers:', f)"
   ]
  }
 ],
 "metadata": {
  "kernelspec": {
   "display_name": "Python 3 (ipykernel)",
   "language": "python",
   "name": "python3"
  },
  "language_info": {
   "codemirror_mode": {
    "name": "ipython",
    "version": 3
   },
   "file_extension": ".py",
   "mimetype": "text/x-python",
   "name": "python",
   "nbconvert_exporter": "python",
   "pygments_lexer": "ipython3",
   "version": "3.9.13"
  },
  "vscode": {
   "interpreter": {
    "hash": "6ca7dd0af72dc2e34149353d4402330a8bc97fa44e55690eb3607aa35cc94939"
   }
  }
 },
 "nbformat": 4,
 "nbformat_minor": 2
}
